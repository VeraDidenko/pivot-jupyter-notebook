{
 "cells": [
  {
   "cell_type": "markdown",
   "metadata": {},
   "source": [
    "# Exploratory data analysis with Flexmonster Pivot Table & Charts"
   ]
  },
  {
   "cell_type": "code",
   "execution_count": 1,
   "metadata": {},
   "outputs": [],
   "source": [
    "# Imports:\n",
    "\n",
    "from IPython.display import HTML\n",
    "import json\n",
    "import pandas as pd"
   ]
  },
  {
   "cell_type": "markdown",
   "metadata": {},
   "source": [
    "## 1) Flexmonster example:"
   ]
  },
  {
   "cell_type": "code",
   "execution_count": 2,
   "metadata": {},
   "outputs": [],
   "source": [
    "# Display Flexmonster in HTML:\n",
    "\n",
    "def pivot(flexmonster_json_object):\n",
    "    \n",
    "    code = '''\n",
    "      <script src=\"https://cdn.flexmonster.com/flexmonster.js\"></script>\n",
    "      <h1>Flexmonster Integration with Jupyter Notebook</h1>\n",
    "      <div id=\"pivot-container1\"></div>\n",
    "      <script>\n",
    "      new Flexmonster({0});\n",
    "      </script>\n",
    "      '''.format(flexmonster_json_object)\n",
    "    return HTML(code)\n"
   ]
  },
  {
   "cell_type": "code",
   "execution_count": 3,
   "metadata": {
    "scrolled": true
   },
   "outputs": [
    {
     "data": {
      "text/html": [
       "\n",
       "      <script src=\"https://cdn.flexmonster.com/flexmonster.js\"></script>\n",
       "      <h1>Flexmonster Integration with Jupyter Notebook</h1>\n",
       "      <div id=\"pivot-container1\"></div>\n",
       "      <script>\n",
       "      new Flexmonster({\"container\": \"#pivot-container1\", \"componentFolder\": \"https://cdn.flexmonster.com/\", \"width\": \"100%\", \"height\": 430, \"toolbar\": true, \"report\": {\"dataSource\": {\"type\": \"json\", \"data\": [{\"Product\": \"Apple pie\", \"Quantity\": \"20\"}, {\"Product\": \"Lemon cake\", \"Quantity\": \"30\"}]}, \"slice\": {\"rows\": [{\"uniqueName\": \"Product\"}], \"columns\": [{\"uniqueName\": \"[Measures]\"}], \"measures\": [{\"uniqueName\": \"Quantity\", \"aggregation\": \"sum\"}]}}});\n",
       "      </script>\n",
       "      "
      ],
      "text/plain": [
       "<IPython.core.display.HTML object>"
      ]
     },
     "execution_count": 3,
     "metadata": {},
     "output_type": "execute_result"
    }
   ],
   "source": [
    "# Define data with pandas:\n",
    "\n",
    "df = pd.DataFrame([['Apple pie', '20'], ['Lemon cake', '30']], index=['row 1', 'row 2'], columns=['Product', 'Quantity'])\n",
    "json_data = df.to_json(orient='records')\n",
    "\n",
    "\n",
    "\n",
    "# Define Flexmonster. More about Flexmonster's properties can be found here: https://www.flexmonster.com/api/new-flexmonster/\n",
    "\n",
    "flexmonster = {\n",
    "    \"container\": \"#pivot-container1\",\n",
    "    \"componentFolder\": \"https://cdn.flexmonster.com/\",\n",
    "    \"width\": \"100%\",\n",
    "    \"height\": 430,\n",
    "    \"toolbar\": True,\n",
    "    \"report\": {\n",
    "        \"dataSource\": {\n",
    "            \"type\": \"json\",\n",
    "            \"data\": json.loads(json_data)\n",
    "        },\n",
    "        \"slice\": {\n",
    "            \"rows\": [\n",
    "                {\n",
    "                    \"uniqueName\": \"Product\"\n",
    "                }\n",
    "            ],\n",
    "            \"columns\": [\n",
    "                {\n",
    "                    \"uniqueName\": \"[Measures]\"\n",
    "                }\n",
    "            ],\n",
    "            \"measures\": [\n",
    "                {\n",
    "                    \"uniqueName\": \"Quantity\",\n",
    "                    \"aggregation\": \"sum\"\n",
    "                }\n",
    "            ]\n",
    "        }\n",
    "    }\n",
    "}\n",
    "\n",
    "\n",
    "# convert into JSON:\n",
    "flexmonster_json_object = json.dumps(flexmonster)\n",
    "\n",
    "# display:\n",
    "pivot(flexmonster_json_object)\n"
   ]
  },
  {
   "cell_type": "markdown",
   "metadata": {},
   "source": [
    "## 2) Flexmonster with events example:"
   ]
  },
  {
   "cell_type": "code",
   "execution_count": 4,
   "metadata": {},
   "outputs": [],
   "source": [
    "# Displaying Flexmonster with events in HTML example:\n",
    "\n",
    "def pivot_with_events(flexmonster_json_object, reportchange_handler='''''', toolbar_handler=''''''):\n",
    "    \n",
    "    code = '''\n",
    "      <script src=\"https://cdn.flexmonster.com/flexmonster.js\"></script>\n",
    "      <h1>Flexmonster Integration with Jupyter Notebook</h1>\n",
    "      <div id=\"pivot-container2\"></div>\n",
    "      <script>\n",
    "      new Flexmonster({0});\n",
    "      {1}\n",
    "      {2}\n",
    "      </script>\n",
    "      '''.format(flexmonster_json_object, reportchange_handler, toolbar_handler)\n",
    "    return HTML(code)"
   ]
  },
  {
   "cell_type": "code",
   "execution_count": 5,
   "metadata": {},
   "outputs": [
    {
     "data": {
      "text/html": [
       "\n",
       "      <script src=\"https://cdn.flexmonster.com/flexmonster.js\"></script>\n",
       "      <h1>Flexmonster Integration with Jupyter Notebook</h1>\n",
       "      <div id=\"pivot-container2\"></div>\n",
       "      <script>\n",
       "      new Flexmonster({\"container\": \"#pivot-container2\", \"componentFolder\": \"https://cdn.flexmonster.com/\", \"width\": \"100%\", \"height\": 430, \"toolbar\": true, \"report\": {\"dataSource\": {\"type\": \"json\", \"data\": [{\"Product\": \"Apple pie\", \"Quantity\": \"20\"}, {\"Product\": \"Lemon cake\", \"Quantity\": \"30\"}]}, \"slice\": {\"rows\": [{\"uniqueName\": \"Product\"}], \"columns\": [{\"uniqueName\": \"[Measures]\"}], \"measures\": [{\"uniqueName\": \"Quantity\", \"aggregation\": \"sum\"}]}}});\n",
       "       flexmonster.on(\"reportchange\", ()=>{alert(\"Changed!\")}); \n",
       "       flexmonster.on(\"beforetoolbarcreated\",  (toolbar) => {\n",
       "    // get all tabs\n",
       "    var tabs = toolbar.getTabs(); \n",
       "    toolbar.getTabs = function () {\n",
       "        // add new tab\n",
       "        tabs.unshift({\n",
       "            id: \"fm-tab-newtab\",\n",
       "            title: \"New Tab\",\n",
       "            handler: newtabHandler,\n",
       "            icon: this.icons.open\n",
       "        });\n",
       "        return tabs;\n",
       "    }\n",
       "\n",
       "    var newtabHandler = function() {\n",
       "       alert(\"New Tab Handler!\")\n",
       "    }  \n",
       "}); \n",
       "      </script>\n",
       "      "
      ],
      "text/plain": [
       "<IPython.core.display.HTML object>"
      ]
     },
     "execution_count": 5,
     "metadata": {},
     "output_type": "execute_result"
    }
   ],
   "source": [
    "# Define data with pandas:\n",
    "\n",
    "df = pd.DataFrame([['Apple pie', '20'], ['Lemon cake', '30']], index=['row 1', 'row 2'], columns=['Product', 'Quantity'])\n",
    "json_data = df.to_json(orient='records')\n",
    "\n",
    "# Define Flexmonster. More about Flexmonster's properties can be found here: https://www.flexmonster.com/api/new-flexmonster/\n",
    "\n",
    "flexmonster = {\n",
    "    \"container\": \"#pivot-container2\",\n",
    "    \"componentFolder\": \"https://cdn.flexmonster.com/\",\n",
    "    \"width\": \"100%\",\n",
    "    \"height\": 430,\n",
    "    \"toolbar\": True,\n",
    "    \"report\": {\n",
    "        \"dataSource\": {\n",
    "            \"type\": \"json\",\n",
    "            \"data\": json.loads(json_data)\n",
    "        },\n",
    "        \"slice\": {\n",
    "            \"rows\": [\n",
    "                {\n",
    "                    \"uniqueName\": \"Product\"\n",
    "                }\n",
    "            ],\n",
    "            \"columns\": [\n",
    "                {\n",
    "                    \"uniqueName\": \"[Measures]\"\n",
    "                }\n",
    "            ],\n",
    "            \"measures\": [\n",
    "                {\n",
    "                    \"uniqueName\": \"Quantity\",\n",
    "                    \"aggregation\": \"sum\"\n",
    "                }\n",
    "            ]\n",
    "        }\n",
    "    }\n",
    "}\n",
    "\n",
    "# Define event handlers. More about Flexmonster events can be found here: https://www.flexmonster.com/api/events/\n",
    "\n",
    "reportchange_handler = ''' flexmonster.on(\"reportchange\", ()=>{alert(\"Changed!\")}); '''\n",
    "    \n",
    "customize_toolbar = ''' (toolbar) => {\n",
    "    // get all tabs\n",
    "    var tabs = toolbar.getTabs(); \n",
    "    toolbar.getTabs = function () {\n",
    "        // add new tab\n",
    "        tabs.unshift({\n",
    "            id: \"fm-tab-newtab\",\n",
    "            title: \"New Tab\",\n",
    "            handler: newtabHandler,\n",
    "            icon: this.icons.open\n",
    "        });\n",
    "        return tabs;\n",
    "    }\n",
    "\n",
    "    var newtabHandler = function() {\n",
    "       alert(\"New Tab Handler!\")\n",
    "    }  \n",
    "}'''\n",
    "\n",
    "toolbar_handler =  ''' flexmonster.on(\"beforetoolbarcreated\", {0}); '''.format(customize_toolbar)\n",
    "\n",
    "# convert into JSON:\n",
    "flexmonster_json_object = json.dumps(flexmonster)\n",
    "\n",
    "# display:\n",
    "pivot_with_events(flexmonster_json_object, reportchange_handler, toolbar_handler)\n"
   ]
  },
  {
   "cell_type": "code",
   "execution_count": null,
   "metadata": {},
   "outputs": [],
   "source": []
  }
 ],
 "metadata": {
  "kernelspec": {
   "display_name": "Python 3",
   "language": "python",
   "name": "python3"
  },
  "language_info": {
   "codemirror_mode": {
    "name": "ipython",
    "version": 3
   },
   "file_extension": ".py",
   "mimetype": "text/x-python",
   "name": "python",
   "nbconvert_exporter": "python",
   "pygments_lexer": "ipython3",
   "version": "3.6.9"
  }
 },
 "nbformat": 4,
 "nbformat_minor": 2
}
